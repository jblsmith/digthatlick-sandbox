{
 "cells": [
  {
   "cell_type": "markdown",
   "metadata": {},
   "source": [
    "# Segmenting audio from the JAAH dataset\n",
    "\n",
    "This notebook walks through the code to create a convolutional neural net (CNN) to classify audio frames from the JAAH dataset and use this information to segment the audio.\n",
    "\n",
    "Most of the working parts are contained in a separate .py file, \"deep_learning_utils.py\". This notebook just calls those routines."
   ]
  },
  {
   "cell_type": "code",
   "execution_count": 29,
   "metadata": {},
   "outputs": [],
   "source": [
    "from deep_learning_utils import *\n",
    "\n",
    "# Print multiple things in a single cell:\n",
    "from IPython.core.interactiveshell import InteractiveShell\n",
    "InteractiveShell.ast_node_interactivity = \"all\""
   ]
  },
  {
   "cell_type": "code",
   "execution_count": 30,
   "metadata": {},
   "outputs": [
    {
     "data": {
      "text/html": [
       "<div>\n",
       "<style scoped>\n",
       "    .dataframe tbody tr th:only-of-type {\n",
       "        vertical-align: middle;\n",
       "    }\n",
       "\n",
       "    .dataframe tbody tr th {\n",
       "        vertical-align: top;\n",
       "    }\n",
       "\n",
       "    .dataframe thead th {\n",
       "        text-align: right;\n",
       "    }\n",
       "</style>\n",
       "<table border=\"1\" class=\"dataframe\">\n",
       "  <thead>\n",
       "    <tr style=\"text-align: right;\">\n",
       "      <th></th>\n",
       "      <th>Unnamed: 0</th>\n",
       "      <th>stem</th>\n",
       "      <th>audio_path</th>\n",
       "      <th>audio_exists</th>\n",
       "    </tr>\n",
       "  </thead>\n",
       "  <tbody>\n",
       "    <tr>\n",
       "      <th>0</th>\n",
       "      <td>0</td>\n",
       "      <td>swing_that_music</td>\n",
       "      <td>/Users/jordan/Documents/data/JAAH//Jazz_ The S...</td>\n",
       "      <td>True</td>\n",
       "    </tr>\n",
       "    <tr>\n",
       "      <th>1</th>\n",
       "      <td>1</td>\n",
       "      <td>wrap_your_troubles_in_dreams</td>\n",
       "      <td>/Users/jordan/Documents/data/JAAH//Jazz_ The S...</td>\n",
       "      <td>True</td>\n",
       "    </tr>\n",
       "    <tr>\n",
       "      <th>2</th>\n",
       "      <td>2</td>\n",
       "      <td>tricroism</td>\n",
       "      <td>/Users/jordan/Documents/data/JAAH//Jazz_ The S...</td>\n",
       "      <td>True</td>\n",
       "    </tr>\n",
       "    <tr>\n",
       "      <th>3</th>\n",
       "      <td>3</td>\n",
       "      <td>blues_for_alice</td>\n",
       "      <td>/Users/jordan/Documents/data/JAAH/Extra Songs/...</td>\n",
       "      <td>False</td>\n",
       "    </tr>\n",
       "    <tr>\n",
       "      <th>4</th>\n",
       "      <td>4</td>\n",
       "      <td>dinah</td>\n",
       "      <td>/Users/jordan/Documents/data/JAAH/SmithsonianC...</td>\n",
       "      <td>True</td>\n",
       "    </tr>\n",
       "  </tbody>\n",
       "</table>\n",
       "</div>"
      ],
      "text/plain": [
       "   Unnamed: 0                          stem  \\\n",
       "0           0              swing_that_music   \n",
       "1           1  wrap_your_troubles_in_dreams   \n",
       "2           2                     tricroism   \n",
       "3           3               blues_for_alice   \n",
       "4           4                         dinah   \n",
       "\n",
       "                                          audio_path  audio_exists  \n",
       "0  /Users/jordan/Documents/data/JAAH//Jazz_ The S...          True  \n",
       "1  /Users/jordan/Documents/data/JAAH//Jazz_ The S...          True  \n",
       "2  /Users/jordan/Documents/data/JAAH//Jazz_ The S...          True  \n",
       "3  /Users/jordan/Documents/data/JAAH/Extra Songs/...         False  \n",
       "4  /Users/jordan/Documents/data/JAAH/SmithsonianC...          True  "
      ]
     },
     "execution_count": 30,
     "metadata": {},
     "output_type": "execute_result"
    },
    {
     "data": {
      "text/html": [
       "<div>\n",
       "<style scoped>\n",
       "    .dataframe tbody tr th:only-of-type {\n",
       "        vertical-align: middle;\n",
       "    }\n",
       "\n",
       "    .dataframe tbody tr th {\n",
       "        vertical-align: top;\n",
       "    }\n",
       "\n",
       "    .dataframe thead th {\n",
       "        text-align: right;\n",
       "    }\n",
       "</style>\n",
       "<table border=\"1\" class=\"dataframe\">\n",
       "  <thead>\n",
       "    <tr style=\"text-align: right;\">\n",
       "      <th></th>\n",
       "      <th>part_name</th>\n",
       "      <th>ind</th>\n",
       "      <th>onset</th>\n",
       "      <th>offset</th>\n",
       "      <th>n_beats</th>\n",
       "      <th>words</th>\n",
       "      <th>instruments</th>\n",
       "      <th>inst_qualifiers</th>\n",
       "      <th>funcs</th>\n",
       "      <th>residual</th>\n",
       "    </tr>\n",
       "  </thead>\n",
       "  <tbody>\n",
       "    <tr>\n",
       "      <th>0</th>\n",
       "      <td>head - abac</td>\n",
       "      <td>0</td>\n",
       "      <td>0.40</td>\n",
       "      <td>25.22</td>\n",
       "      <td>128</td>\n",
       "      <td>[head, -, abac]</td>\n",
       "      <td>[]</td>\n",
       "      <td>[]</td>\n",
       "      <td>[head]</td>\n",
       "      <td>[abac]</td>\n",
       "    </tr>\n",
       "    <tr>\n",
       "      <th>1</th>\n",
       "      <td>vocals male - abac</td>\n",
       "      <td>0</td>\n",
       "      <td>25.22</td>\n",
       "      <td>49.67</td>\n",
       "      <td>128</td>\n",
       "      <td>[vocals, male, -, abac]</td>\n",
       "      <td>[vocals]</td>\n",
       "      <td>[male]</td>\n",
       "      <td>[]</td>\n",
       "      <td>[abac]</td>\n",
       "    </tr>\n",
       "    <tr>\n",
       "      <th>2</th>\n",
       "      <td>ensemble - abac</td>\n",
       "      <td>0</td>\n",
       "      <td>49.67</td>\n",
       "      <td>74.37</td>\n",
       "      <td>128</td>\n",
       "      <td>[ensemble, -, abac]</td>\n",
       "      <td>[ensemble]</td>\n",
       "      <td>[]</td>\n",
       "      <td>[]</td>\n",
       "      <td>[abac]</td>\n",
       "    </tr>\n",
       "    <tr>\n",
       "      <th>3</th>\n",
       "      <td>trumpet solo - abac</td>\n",
       "      <td>0</td>\n",
       "      <td>74.37</td>\n",
       "      <td>97.86</td>\n",
       "      <td>128</td>\n",
       "      <td>[trumpet, solo, -, abac]</td>\n",
       "      <td>[trumpet]</td>\n",
       "      <td>[]</td>\n",
       "      <td>[solo]</td>\n",
       "      <td>[abac]</td>\n",
       "    </tr>\n",
       "    <tr>\n",
       "      <th>4</th>\n",
       "      <td>trumpet solo - abac</td>\n",
       "      <td>0</td>\n",
       "      <td>97.86</td>\n",
       "      <td>121.69</td>\n",
       "      <td>128</td>\n",
       "      <td>[trumpet, solo, -, abac]</td>\n",
       "      <td>[trumpet]</td>\n",
       "      <td>[]</td>\n",
       "      <td>[solo]</td>\n",
       "      <td>[abac]</td>\n",
       "    </tr>\n",
       "    <tr>\n",
       "      <th>5</th>\n",
       "      <td>trumpet solo - abac</td>\n",
       "      <td>0</td>\n",
       "      <td>121.69</td>\n",
       "      <td>145.62</td>\n",
       "      <td>128</td>\n",
       "      <td>[trumpet, solo, -, abac]</td>\n",
       "      <td>[trumpet]</td>\n",
       "      <td>[]</td>\n",
       "      <td>[solo]</td>\n",
       "      <td>[abac]</td>\n",
       "    </tr>\n",
       "    <tr>\n",
       "      <th>6</th>\n",
       "      <td>trumpet solo, ensemble - abac</td>\n",
       "      <td>0</td>\n",
       "      <td>145.62</td>\n",
       "      <td>174.07</td>\n",
       "      <td>133</td>\n",
       "      <td>[trumpet, solo, ensemble, -, abac]</td>\n",
       "      <td>[trumpet, ensemble]</td>\n",
       "      <td>[]</td>\n",
       "      <td>[solo]</td>\n",
       "      <td>[abac]</td>\n",
       "    </tr>\n",
       "    <tr>\n",
       "      <th>7</th>\n",
       "      <td>intro</td>\n",
       "      <td>1</td>\n",
       "      <td>1.34</td>\n",
       "      <td>8.97</td>\n",
       "      <td>16</td>\n",
       "      <td>[intro]</td>\n",
       "      <td>[]</td>\n",
       "      <td>[]</td>\n",
       "      <td>[intro]</td>\n",
       "      <td>[]</td>\n",
       "    </tr>\n",
       "    <tr>\n",
       "      <th>8</th>\n",
       "      <td>vocals female - aaba</td>\n",
       "      <td>1</td>\n",
       "      <td>8.97</td>\n",
       "      <td>69.54</td>\n",
       "      <td>128</td>\n",
       "      <td>[vocals, female, -, aaba]</td>\n",
       "      <td>[vocals]</td>\n",
       "      <td>[female]</td>\n",
       "      <td>[]</td>\n",
       "      <td>[aaba]</td>\n",
       "    </tr>\n",
       "    <tr>\n",
       "      <th>9</th>\n",
       "      <td>ensemble - coda</td>\n",
       "      <td>1</td>\n",
       "      <td>69.54</td>\n",
       "      <td>77.32</td>\n",
       "      <td>16</td>\n",
       "      <td>[ensemble, -, coda]</td>\n",
       "      <td>[ensemble]</td>\n",
       "      <td>[]</td>\n",
       "      <td>[]</td>\n",
       "      <td>[coda]</td>\n",
       "    </tr>\n",
       "  </tbody>\n",
       "</table>\n",
       "</div>"
      ],
      "text/plain": [
       "                       part_name  ind   onset  offset  n_beats  \\\n",
       "0                    head - abac    0    0.40   25.22      128   \n",
       "1             vocals male - abac    0   25.22   49.67      128   \n",
       "2                ensemble - abac    0   49.67   74.37      128   \n",
       "3            trumpet solo - abac    0   74.37   97.86      128   \n",
       "4            trumpet solo - abac    0   97.86  121.69      128   \n",
       "5            trumpet solo - abac    0  121.69  145.62      128   \n",
       "6  trumpet solo, ensemble - abac    0  145.62  174.07      133   \n",
       "7                          intro    1    1.34    8.97       16   \n",
       "8           vocals female - aaba    1    8.97   69.54      128   \n",
       "9                ensemble - coda    1   69.54   77.32       16   \n",
       "\n",
       "                                words          instruments inst_qualifiers  \\\n",
       "0                     [head, -, abac]                   []              []   \n",
       "1             [vocals, male, -, abac]             [vocals]          [male]   \n",
       "2                 [ensemble, -, abac]           [ensemble]              []   \n",
       "3            [trumpet, solo, -, abac]            [trumpet]              []   \n",
       "4            [trumpet, solo, -, abac]            [trumpet]              []   \n",
       "5            [trumpet, solo, -, abac]            [trumpet]              []   \n",
       "6  [trumpet, solo, ensemble, -, abac]  [trumpet, ensemble]              []   \n",
       "7                             [intro]                   []              []   \n",
       "8           [vocals, female, -, aaba]             [vocals]        [female]   \n",
       "9                 [ensemble, -, coda]           [ensemble]              []   \n",
       "\n",
       "     funcs residual  \n",
       "0   [head]   [abac]  \n",
       "1       []   [abac]  \n",
       "2       []   [abac]  \n",
       "3   [solo]   [abac]  \n",
       "4   [solo]   [abac]  \n",
       "5   [solo]   [abac]  \n",
       "6   [solo]   [abac]  \n",
       "7  [intro]       []  \n",
       "8       []   [aaba]  \n",
       "9       []   [coda]  "
      ]
     },
     "execution_count": 30,
     "metadata": {},
     "output_type": "execute_result"
    },
    {
     "data": {
      "text/plain": [
       "'/Users/jordan/Documents/data/JAAH/feature_data/'"
      ]
     },
     "execution_count": 30,
     "metadata": {},
     "output_type": "execute_result"
    }
   ],
   "source": [
    "# Three global variables were imported from deep_learning_utils:\n",
    "\n",
    "# A DataFrame listing each song in the JAAH dataset and its audio path:\n",
    "JAAH_INFO.head()\n",
    "# A DataFrame listing each annotated \"section\" and parsed information about its label:\n",
    "INFO_DF.head(10)\n",
    "# The folder containing pre-computed audio features:\n",
    "MY_BASE_PATH"
   ]
  },
  {
   "cell_type": "code",
   "execution_count": 31,
   "metadata": {},
   "outputs": [],
   "source": [
    "# Define set of songs to analyse, and load pre-computed Mel-frequency spectrum frames.\n",
    "MFSG_SONG_PATH_PATTERN = os.path.join(MY_BASE_PATH, 'jaah_song_%s_mfsg.npz')\n",
    "audio_exists = JAAH_INFO.loc[JAAH_INFO.audio_exists].iloc[:,0].values\n",
    "song_id_list = sorted(list(set.intersection(set(audio_exists), set(np.unique(INFO_DF.ind)))))"
   ]
  },
  {
   "cell_type": "code",
   "execution_count": 32,
   "metadata": {},
   "outputs": [],
   "source": [
    "# This is where all the data gets loaded. It takes a while!\n",
    "# It loads pre-computed mel-scale spectra for every song in the song_id_list.\n",
    "# For each song, it loads percent_keep% of the spectra (selected randomly), and scrambles the order.\n",
    "percent_keep = 0.05\n",
    "images_proc_all, songvecs_all, onehots_all, metadata_columns = script_2_load_percent_of_all_info(song_id_list, 'instruments', percent_keep=percent_keep)"
   ]
  },
  {
   "cell_type": "code",
   "execution_count": 33,
   "metadata": {},
   "outputs": [],
   "source": [
    "# The data where no instrument is \"soloing\" will still feature a prominent instrument,\n",
    "# and we don't know what it is right now. So, let's remove them all from the training data:\n",
    "solo_keep_inds = [i for i in range(other.shape[0]) if other[i]==0]\n",
    "images_proc = images_proc_all[solo_keep_inds]\n",
    "songvecs = songvecs_all[solo_keep_inds]\n",
    "onehots = onehots_all[solo_keep_inds]"
   ]
  },
  {
   "cell_type": "code",
   "execution_count": 34,
   "metadata": {},
   "outputs": [
    {
     "data": {
      "text/plain": [
       "<matplotlib.image.AxesImage at 0x105871588>"
      ]
     },
     "execution_count": 34,
     "metadata": {},
     "output_type": "execute_result"
    },
    {
     "name": "stdout",
     "output_type": "stream",
     "text": [
      "The song index this belongs to: 0.0\n",
      "The i^th labels: [0. 0. 0. 0. 0. 1. 0. 0. 0. 0. 0. 0. 0. 0. 0. 0.]\n",
      "The instrument tags these correspond to: ['ensemble']\n"
     ]
    },
    {
     "data": {
      "image/png": "[encoded data removed]",
      "text/plain": [
       "<Figure size 432x288 with 1 Axes>"
      ]
     },
     "metadata": {
      "needs_background": "light"
     },
     "output_type": "display_data"
    }
   ],
   "source": [
    "# Let's look at all the data we've loaded for a given spectrum.\n",
    "i = 5\n",
    "# The i^th spectrum:\n",
    "plt.imshow(images_proc[i,:,:,0])\n",
    "# The song index for that spectrum:\n",
    "print(\"The song index this belongs to: {0}\".format(songvecs[i]))\n",
    "print(\"The i^th labels: {0}\".format(onehots[i,:]))\n",
    "print(\"The instrument tags these correspond to: {0}\".format([metadata_columns[j] for j in range(onehots.shape[1]) if onehots[i,j]==1]))"
   ]
  },
  {
   "cell_type": "code",
   "execution_count": 35,
   "metadata": {},
   "outputs": [],
   "source": [
    "# Define a smaller set of reasonable instrument categories:\n",
    "# metadata_columns is: ['banjo', 'bass', 'clarinet', 'cornet', 'drums',\n",
    "# 'ensemble', 'guitar', 'horn', 'piano', 'sax', 'scat', 'trombone', 'trumpet',\n",
    "# 'vibraphone', 'vocals', 'no_instrument']\n",
    "brass = np.sum(onehots[:,[metadata_columns.index(instr) for instr in [\"trumpet\", \"trombone\", \"horn\", \"cornet\"]]],axis=1)\n",
    "reed = np.sum(onehots[:,[metadata_columns.index(instr) for instr in [\"clarinet\", \"sax\"]]],axis=1)\n",
    "pluck = np.sum(onehots[:,[metadata_columns.index(instr) for instr in [\"banjo\", \"guitar\", \"bass\"]]],axis=1)\n",
    "percussion = np.sum(onehots[:,[metadata_columns.index(instr) for instr in [\"drums\", \"sax\"]]],axis=1)\n",
    "keyboard = np.sum(onehots[:,[metadata_columns.index(instr) for instr in [\"piano\", \"vibraphone\"]]],axis=1)\n",
    "vocal = np.sum(onehots[:,[metadata_columns.index(instr) for instr in [\"vocals\", \"scat\"]]],axis=1)\n",
    "other = np.sum(onehots[:,[metadata_columns.index(instr) for instr in [\"ensemble\",\"no_instrument\"]]],axis=1)"
   ]
  },
  {
   "cell_type": "code",
   "execution_count": 36,
   "metadata": {},
   "outputs": [
    {
     "name": "stdout",
     "output_type": "stream",
     "text": [
      "10\n"
     ]
    }
   ],
   "source": [
    "# Define data splits:\n",
    "input_shape = images_proc.shape[1:]\n",
    "train_ranges, test_ranges, n_splits = produce_splits(song_id_list, 0.1)\n",
    "print(n_splits)"
   ]
  },
  {
   "cell_type": "markdown",
   "metadata": {},
   "source": [
    "# Create a single-label classifier"
   ]
  },
  {
   "cell_type": "code",
   "execution_count": 41,
   "metadata": {},
   "outputs": [],
   "source": [
    "# Classes should be a one-hot matrix.\n",
    "classes = np.stack((brass, 1-brass),axis=1)\n",
    "n_classes = classes.shape[1]"
   ]
  },
  {
   "cell_type": "code",
   "execution_count": 43,
   "metadata": {},
   "outputs": [
    {
     "name": "stdout",
     "output_type": "stream",
     "text": [
      "Epoch 1/5\n",
      "796/796 [==============================] - 14s 18ms/step - loss: 0.5125 - acc: 0.7845\n",
      "Epoch 2/5\n",
      "796/796 [==============================] - 13s 16ms/step - loss: 0.4546 - acc: 0.8241\n",
      "Epoch 3/5\n",
      "796/796 [==============================] - 14s 17ms/step - loss: 0.4395 - acc: 0.8247\n",
      "Epoch 4/5\n",
      "796/796 [==============================] - 13s 17ms/step - loss: 0.4287 - acc: 0.8241\n",
      "Epoch 5/5\n",
      "796/796 [==============================] - 14s 17ms/step - loss: 0.4177 - acc: 0.8304\n"
     ]
    }
   ],
   "source": [
    "# Create the classifier!\n",
    "results_log = []\n",
    "loss = 'binary_crossentropy'  # 'categorical_crossentropy' for multi-class problems\n",
    "optimizer = 'sgd' \n",
    "metrics = ['accuracy']\n",
    "batch_size = 32\n",
    "epochs = 5\n",
    "# Performing this over many splits is recommended for proper evaluation.\n",
    "# for split_i in range(n_splits):\n",
    "for split_i in [3]:\n",
    "    train_X, test_X, train_y, test_y = split_data_with_indices(images_proc, classes, songvecs, test_ranges[split_i])\n",
    "    model = script_for_basic_model(input_shape, n_classes, n_layers=2)\n",
    "    model.compile(loss=loss, optimizer=optimizer, metrics=metrics)\n",
    "    history = model.fit(train_X, train_y, batch_size=batch_size, epochs=epochs)\n",
    "    test_pred = model.predict_classes(test_X)\n",
    "    # test_pred[0:10]\n",
    "    pred_split = np.sum(test_pred)/len(test_pred)\n",
    "    # 1 layer\n",
    "    acc = sklearn.metrics.accuracy_score(test_y[:,1], test_pred)\n",
    "    # Baseline performance:\n",
    "    baseline_acc = np.max(np.sum(classes,axis=0))/np.sum(classes)\n",
    "    results_log += [[acc, baseline_acc, pred_split, history, model]]"
   ]
  },
  {
   "cell_type": "code",
   "execution_count": 56,
   "metadata": {},
   "outputs": [
    {
     "name": "stdout",
     "output_type": "stream",
     "text": [
      "Achieved accuracy: 0.013888888888888888\n",
      "Baseline accuracy: 0.22029488291413704\n",
      "Frequency of dominant class: 5.680555555555555\n"
     ]
    }
   ],
   "source": [
    "result_i = 0\n",
    "print(\"Achieved accuracy: {0}\".format(results_log[result_i][0]))\n",
    "print(\"Baseline accuracy: {0}\".format(results_log[result_i][1]))\n",
    "print(\"Frequency of dominant class: {0}\".format(results_log[result_i][2]))"
   ]
  },
  {
   "cell_type": "code",
   "execution_count": null,
   "metadata": {},
   "outputs": [],
   "source": [
    "# Look at errors on the test set:\n"
   ]
  },
  {
   "cell_type": "markdown",
   "metadata": {},
   "source": [
    "# Create a multi-label classifier"
   ]
  },
  {
   "cell_type": "code",
   "execution_count": 52,
   "metadata": {},
   "outputs": [],
   "source": [
    "classes = np.stack((brass, reed, pluck, percussion, keyboard, vocal, other),axis=1)\n",
    "n_classes = classes.shape[1]"
   ]
  },
  {
   "cell_type": "code",
   "execution_count": 58,
   "metadata": {},
   "outputs": [
    {
     "name": "stdout",
     "output_type": "stream",
     "text": [
      "Train on 716 samples, validate on 80 samples\n",
      "Epoch 1/5\n",
      "716/716 [==============================] - 13s 18ms/step - loss: 0.5262 - acc: 0.8111 - val_loss: 0.4896 - val_acc: 0.8179\n",
      "Epoch 2/5\n",
      "716/716 [==============================] - 17s 24ms/step - loss: 0.4871 - acc: 0.8130 - val_loss: 0.4659 - val_acc: 0.8179\n",
      "Epoch 3/5\n",
      "716/716 [==============================] - 17s 24ms/step - loss: 0.4710 - acc: 0.8128 - val_loss: 0.4554 - val_acc: 0.8179\n",
      "Epoch 4/5\n",
      "716/716 [==============================] - 18s 25ms/step - loss: 0.4626 - acc: 0.8128 - val_loss: 0.4502 - val_acc: 0.8179\n",
      "Epoch 5/5\n",
      "716/716 [==============================] - 13s 18ms/step - loss: 0.4573 - acc: 0.8132 - val_loss: 0.4471 - val_acc: 0.8179\n"
     ]
    }
   ],
   "source": [
    "# Create the classifier!\n",
    "results_log = []\n",
    "loss = 'binary_crossentropy' \n",
    "output_activation = 'sigmoid'\n",
    "optimizer = 'sgd' \n",
    "metrics = ['accuracy']\n",
    "batch_size = 32\n",
    "epochs = 5\n",
    "validation_split = 0.1\n",
    "# Performing this over many splits is recommended for proper evaluation.\n",
    "# for split_i in range(n_splits):\n",
    "for split_i in [3]:\n",
    "    train_X, test_X, train_y, test_y = split_data_with_indices(images_proc, classes, songvecs, test_ranges[split_i])\n",
    "    model = script_for_basic_model(input_shape, n_classes, n_layers=2)\n",
    "    model.compile(loss=loss, optimizer=optimizer, metrics=metrics)\n",
    "    history = model.fit(train_X, train_y, batch_size=batch_size, epochs=epochs, validation_split=validation_split)\n",
    "    test_pred = model.predict_classes(test_X)\n",
    "    # test_pred[0:10]\n",
    "    est_classes = {i:(np.count_nonzero(test_pred==i)) for i in range(max(test_pred)+1)}\n",
    "    dom_freq = np.max(list(est_classes.values()))/len(test_pred)\n",
    "    # 1 layer\n",
    "    acc = sklearn.metrics.accuracy_score(test_y[:,1], test_pred)\n",
    "    # Baseline performance:\n",
    "    baseline_acc = np.max(np.sum(classes,axis=0))/np.sum(classes)\n",
    "    results_log += [[acc, baseline_acc, dom_freq, history, model]]"
   ]
  },
  {
   "cell_type": "code",
   "execution_count": 59,
   "metadata": {},
   "outputs": [
    {
     "name": "stdout",
     "output_type": "stream",
     "text": [
      "Achieved accuracy: 0.0\n",
      "Baseline accuracy: 0.22029488291413704\n",
      "Frequency of dominant class: 0.875\n"
     ]
    }
   ],
   "source": [
    "result_i = 0\n",
    "print(\"Achieved accuracy: {0}\".format(results_log[result_i][0]))\n",
    "print(\"Baseline accuracy: {0}\".format(results_log[result_i][1]))\n",
    "print(\"Frequency of dominant class: {0}\".format(results_log[result_i][2]))"
   ]
  }
 ],
 "metadata": {
  "kernelspec": {
   "display_name": "Python 3",
   "language": "python",
   "name": "python3"
  },
  "language_info": {
   "codemirror_mode": {
    "name": "ipython",
    "version": 3
   },
   "file_extension": ".py",
   "mimetype": "text/x-python",
   "name": "python",
   "nbconvert_exporter": "python",
   "pygments_lexer": "ipython3",
   "version": "3.7.2"
  }
 },
 "nbformat": 4,
 "nbformat_minor": 2
}
